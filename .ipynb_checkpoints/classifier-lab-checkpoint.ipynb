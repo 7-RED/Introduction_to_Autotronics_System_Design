{
 "cells": [
  {
   "cell_type": "code",
   "execution_count": 1,
   "metadata": {
    "scrolled": true
   },
   "outputs": [
    {
     "name": "stderr",
     "output_type": "stream",
     "text": [
      "Using TensorFlow backend.\n",
      "d:\\anaconda\\envs\\tf114_classifier\\lib\\site-packages\\tensorflow\\python\\framework\\dtypes.py:516: FutureWarning: Passing (type, 1) or '1type' as a synonym of type is deprecated; in a future version of numpy, it will be understood as (type, (1,)) / '(1,)type'.\n",
      "  _np_qint8 = np.dtype([(\"qint8\", np.int8, 1)])\n",
      "d:\\anaconda\\envs\\tf114_classifier\\lib\\site-packages\\tensorflow\\python\\framework\\dtypes.py:517: FutureWarning: Passing (type, 1) or '1type' as a synonym of type is deprecated; in a future version of numpy, it will be understood as (type, (1,)) / '(1,)type'.\n",
      "  _np_quint8 = np.dtype([(\"quint8\", np.uint8, 1)])\n",
      "d:\\anaconda\\envs\\tf114_classifier\\lib\\site-packages\\tensorflow\\python\\framework\\dtypes.py:518: FutureWarning: Passing (type, 1) or '1type' as a synonym of type is deprecated; in a future version of numpy, it will be understood as (type, (1,)) / '(1,)type'.\n",
      "  _np_qint16 = np.dtype([(\"qint16\", np.int16, 1)])\n",
      "d:\\anaconda\\envs\\tf114_classifier\\lib\\site-packages\\tensorflow\\python\\framework\\dtypes.py:519: FutureWarning: Passing (type, 1) or '1type' as a synonym of type is deprecated; in a future version of numpy, it will be understood as (type, (1,)) / '(1,)type'.\n",
      "  _np_quint16 = np.dtype([(\"quint16\", np.uint16, 1)])\n",
      "d:\\anaconda\\envs\\tf114_classifier\\lib\\site-packages\\tensorflow\\python\\framework\\dtypes.py:520: FutureWarning: Passing (type, 1) or '1type' as a synonym of type is deprecated; in a future version of numpy, it will be understood as (type, (1,)) / '(1,)type'.\n",
      "  _np_qint32 = np.dtype([(\"qint32\", np.int32, 1)])\n",
      "d:\\anaconda\\envs\\tf114_classifier\\lib\\site-packages\\tensorflow\\python\\framework\\dtypes.py:525: FutureWarning: Passing (type, 1) or '1type' as a synonym of type is deprecated; in a future version of numpy, it will be understood as (type, (1,)) / '(1,)type'.\n",
      "  np_resource = np.dtype([(\"resource\", np.ubyte, 1)])\n",
      "d:\\anaconda\\envs\\tf114_classifier\\lib\\site-packages\\tensorboard\\compat\\tensorflow_stub\\dtypes.py:541: FutureWarning: Passing (type, 1) or '1type' as a synonym of type is deprecated; in a future version of numpy, it will be understood as (type, (1,)) / '(1,)type'.\n",
      "  _np_qint8 = np.dtype([(\"qint8\", np.int8, 1)])\n",
      "d:\\anaconda\\envs\\tf114_classifier\\lib\\site-packages\\tensorboard\\compat\\tensorflow_stub\\dtypes.py:542: FutureWarning: Passing (type, 1) or '1type' as a synonym of type is deprecated; in a future version of numpy, it will be understood as (type, (1,)) / '(1,)type'.\n",
      "  _np_quint8 = np.dtype([(\"quint8\", np.uint8, 1)])\n",
      "d:\\anaconda\\envs\\tf114_classifier\\lib\\site-packages\\tensorboard\\compat\\tensorflow_stub\\dtypes.py:543: FutureWarning: Passing (type, 1) or '1type' as a synonym of type is deprecated; in a future version of numpy, it will be understood as (type, (1,)) / '(1,)type'.\n",
      "  _np_qint16 = np.dtype([(\"qint16\", np.int16, 1)])\n",
      "d:\\anaconda\\envs\\tf114_classifier\\lib\\site-packages\\tensorboard\\compat\\tensorflow_stub\\dtypes.py:544: FutureWarning: Passing (type, 1) or '1type' as a synonym of type is deprecated; in a future version of numpy, it will be understood as (type, (1,)) / '(1,)type'.\n",
      "  _np_quint16 = np.dtype([(\"quint16\", np.uint16, 1)])\n",
      "d:\\anaconda\\envs\\tf114_classifier\\lib\\site-packages\\tensorboard\\compat\\tensorflow_stub\\dtypes.py:545: FutureWarning: Passing (type, 1) or '1type' as a synonym of type is deprecated; in a future version of numpy, it will be understood as (type, (1,)) / '(1,)type'.\n",
      "  _np_qint32 = np.dtype([(\"qint32\", np.int32, 1)])\n",
      "d:\\anaconda\\envs\\tf114_classifier\\lib\\site-packages\\tensorboard\\compat\\tensorflow_stub\\dtypes.py:550: FutureWarning: Passing (type, 1) or '1type' as a synonym of type is deprecated; in a future version of numpy, it will be understood as (type, (1,)) / '(1,)type'.\n",
      "  np_resource = np.dtype([(\"resource\", np.ubyte, 1)])\n"
     ]
    }
   ],
   "source": [
    "import numpy as np\n",
    "import cv2\n",
    "import matplotlib\n",
    "import pickle\n",
    "import h5py\n",
    "import glob\n",
    "import time\n",
    "from random import shuffle\n",
    "from collections import Counter\n",
    "from sklearn.model_selection import train_test_split\n",
    "import os\n",
    "#os.environ[\"CUDA_DEVICE_ORDER\"] = \"PCI_BUS_ID\"\n",
    "#os.environ[\"CUDA_VISIBLE_DEVICES\"] = \"0\"\n",
    "import keras\n",
    "import tensorflow as tf\n",
    "from keras.preprocessing.image import ImageDataGenerator\n",
    "from keras.callbacks import LearningRateScheduler, ModelCheckpoint\n",
    "from keras.models import Sequential\n",
    "from keras.layers import Dense, Dropout, Activation, Flatten,Dropout,Softmax\n",
    "from keras.layers import Conv2D, MaxPooling2D, GlobalAveragePooling2D,LeakyReLU,ReLU, AveragePooling2D\n",
    "from keras.optimizers import SGD, Adam,RMSprop,Adagrad,Adadelta\n",
    "from keras.layers.normalization import BatchNormalization\n",
    "from keras.preprocessing.image import ImageDataGenerator\n",
    "config = tf.ConfigProto()\n",
    "config.gpu_options.allow_growth = True\n",
    "sess = tf.Session(config=config)\n",
    "\n"
   ]
  },
  {
   "cell_type": "code",
   "execution_count": 3,
   "metadata": {},
   "outputs": [],
   "source": [
    "map_characters ={ 0:'R_train',1:'L_train',2:'F_train',3:'B_train'\n",
    "                }\n",
    "num_classes = len(map_characters)\n",
    "test_size = 0.1\n",
    "imgsPath = \"D:/classifier-lab/Student/Lab1-1/\"\n",
    "img_width = 32\n",
    "img_height = 32"
   ]
  },
  {
   "cell_type": "code",
   "execution_count": 4,
   "metadata": {},
   "outputs": [],
   "source": [
    "def load_pictures():\n",
    "    pics = []\n",
    "    labels = []\n",
    "    \n",
    "    for k, v in map_characters.items(): \n",
    "        \n",
    "        pictures = [k for k in glob.glob(imgsPath + \"/\" + v + \"/*\")]        \n",
    "        print(v + \" : \" + str(len(pictures))) \n",
    "        for i, pic in enumerate(pictures):\n",
    "            tmp_img = cv2.imread(pic)\n",
    "            tmp_img = cv2.cvtColor(tmp_img, cv2.COLOR_BGR2RGB) ##\n",
    "            tmp_img = cv2.resize(tmp_img, (img_height, img_width))          \n",
    "            pics.append(tmp_img)\n",
    "            labels.append(k)    \n",
    "    return np.array(pics), np.array(labels)"
   ]
  },
  {
   "cell_type": "code",
   "execution_count": 5,
   "metadata": {},
   "outputs": [],
   "source": [
    "def get_dataset(save=False, load=False):\n",
    "    if load: \n",
    "        \n",
    "        h5f = h5py.File('dataset.h5','r')\n",
    "        X_train = h5f['X_train'][:]\n",
    "        X_test = h5f['X_test'][:]\n",
    "        h5f.close()\n",
    "        \n",
    "        \n",
    "        h5f = h5py.File('labels.h5', 'r')\n",
    "        y_train = h5f['y_train'][:]\n",
    "        y_test = h5f['y_test'][:]\n",
    "        h5f.close()\n",
    "    else:\n",
    "        \n",
    "        X, y = load_pictures()\n",
    "        y = keras.utils.to_categorical(y, num_classes) \n",
    "        \n",
    "        \n",
    "        X_train, X_test, y_train, y_test = train_test_split(X, y, test_size=test_size) \n",
    "        if save: \n",
    "            h5f = h5py.File('dataset.h5', 'w')\n",
    "            h5f.create_dataset('X_train', data=X_train)\n",
    "            h5f.create_dataset('X_test', data=X_test)\n",
    "            h5f.close()\n",
    "            \n",
    "            h5f = h5py.File('labels.h5', 'w')\n",
    "            h5f.create_dataset('y_train', data=y_train)\n",
    "            h5f.create_dataset('y_test', data=y_test)\n",
    "            h5f.close()\n",
    "    \n",
    "    \n",
    "    X_train = X_train.astype('float32') / 255.\n",
    "    X_test = X_test.astype('float32') / 255.\n",
    "    print(\"Train\", X_train.shape, y_train.shape)\n",
    "    print(\"Test\", X_test.shape, y_test.shape)\n",
    "    \n",
    "    return X_train, X_test, y_train, y_test   "
   ]
  },
  {
   "cell_type": "code",
   "execution_count": 6,
   "metadata": {
    "scrolled": true
   },
   "outputs": [
    {
     "name": "stdout",
     "output_type": "stream",
     "text": [
      "R_train : 505\n",
      "L_train : 505\n",
      "F_train : 1055\n",
      "B_train : 797\n",
      "Train (2575, 32, 32, 3) (2575, 4)\n",
      "Test (287, 32, 32, 3) (287, 4)\n"
     ]
    }
   ],
   "source": [
    "X_train, X_test, y_train, y_test = get_dataset(save=False, load=False)"
   ]
  },
  {
   "cell_type": "code",
   "execution_count": 7,
   "metadata": {},
   "outputs": [],
   "source": [
    "#Zedboard\n",
    "def create_model_face(input_shape):\n",
    "    model = Sequential([\n",
    "    Conv2D(32, (5, 5), input_shape=input_shape, padding='same'),\n",
    "    MaxPooling2D(pool_size=(2, 2), strides=(2, 2)),\n",
    "    ReLU(),\n",
    "\n",
    "        \n",
    "    Conv2D(32, (5, 5), activation='relu', padding='same'),\n",
    "    AveragePooling2D(pool_size=(2, 2), strides=(2, 2)),\n",
    "        \n",
    "    Conv2D(64, (5, 5), activation='relu', padding='same'),\n",
    "    AveragePooling2D(pool_size=(2, 2), strides=(2, 2)),\n",
    "        \n",
    "    Flatten(),\n",
    "    Dense(64, activation='relu'),\n",
    "    Dense(4, activation='softmax')#有幾類?\n",
    "    ])\n",
    "    \n",
    "    \n",
    "    \n",
    "    \n",
    "    return model;"
   ]
  },
  {
   "cell_type": "code",
   "execution_count": 8,
   "metadata": {
    "scrolled": true
   },
   "outputs": [
    {
     "name": "stdout",
     "output_type": "stream",
     "text": [
      "WARNING:tensorflow:From d:\\anaconda\\envs\\tf114_classifier\\lib\\site-packages\\keras\\backend\\tensorflow_backend.py:66: The name tf.get_default_graph is deprecated. Please use tf.compat.v1.get_default_graph instead.\n",
      "\n",
      "WARNING:tensorflow:From d:\\anaconda\\envs\\tf114_classifier\\lib\\site-packages\\keras\\backend\\tensorflow_backend.py:541: The name tf.placeholder is deprecated. Please use tf.compat.v1.placeholder instead.\n",
      "\n",
      "WARNING:tensorflow:From d:\\anaconda\\envs\\tf114_classifier\\lib\\site-packages\\keras\\backend\\tensorflow_backend.py:4432: The name tf.random_uniform is deprecated. Please use tf.random.uniform instead.\n",
      "\n",
      "WARNING:tensorflow:From d:\\anaconda\\envs\\tf114_classifier\\lib\\site-packages\\keras\\backend\\tensorflow_backend.py:4267: The name tf.nn.max_pool is deprecated. Please use tf.nn.max_pool2d instead.\n",
      "\n",
      "WARNING:tensorflow:From d:\\anaconda\\envs\\tf114_classifier\\lib\\site-packages\\keras\\backend\\tensorflow_backend.py:4271: The name tf.nn.avg_pool is deprecated. Please use tf.nn.avg_pool2d instead.\n",
      "\n",
      "Model: \"sequential_1\"\n",
      "_________________________________________________________________\n",
      "Layer (type)                 Output Shape              Param #   \n",
      "=================================================================\n",
      "conv2d_1 (Conv2D)            (None, 32, 32, 32)        2432      \n",
      "_________________________________________________________________\n",
      "max_pooling2d_1 (MaxPooling2 (None, 16, 16, 32)        0         \n",
      "_________________________________________________________________\n",
      "re_lu_1 (ReLU)               (None, 16, 16, 32)        0         \n",
      "_________________________________________________________________\n",
      "conv2d_2 (Conv2D)            (None, 16, 16, 32)        25632     \n",
      "_________________________________________________________________\n",
      "average_pooling2d_1 (Average (None, 8, 8, 32)          0         \n",
      "_________________________________________________________________\n",
      "conv2d_3 (Conv2D)            (None, 8, 8, 64)          51264     \n",
      "_________________________________________________________________\n",
      "average_pooling2d_2 (Average (None, 4, 4, 64)          0         \n",
      "_________________________________________________________________\n",
      "flatten_1 (Flatten)          (None, 1024)              0         \n",
      "_________________________________________________________________\n",
      "dense_1 (Dense)              (None, 64)                65600     \n",
      "_________________________________________________________________\n",
      "dense_2 (Dense)              (None, 4)                 260       \n",
      "=================================================================\n",
      "Total params: 145,188\n",
      "Trainable params: 145,188\n",
      "Non-trainable params: 0\n",
      "_________________________________________________________________\n"
     ]
    }
   ],
   "source": [
    "model = create_model_face((img_height, img_width, 3)) ### 初始化一個模型\n",
    "model.summary() # 秀出模型架構"
   ]
  },
  {
   "cell_type": "code",
   "execution_count": 9,
   "metadata": {
    "scrolled": true
   },
   "outputs": [
    {
     "name": "stdout",
     "output_type": "stream",
     "text": [
      "WARNING:tensorflow:From d:\\anaconda\\envs\\tf114_classifier\\lib\\site-packages\\keras\\optimizers.py:793: The name tf.train.Optimizer is deprecated. Please use tf.compat.v1.train.Optimizer instead.\n",
      "\n",
      "WARNING:tensorflow:From d:\\anaconda\\envs\\tf114_classifier\\lib\\site-packages\\keras\\backend\\tensorflow_backend.py:3576: The name tf.log is deprecated. Please use tf.math.log instead.\n",
      "\n"
     ]
    }
   ],
   "source": [
    "#original\n",
    "sgd = SGD()\n",
    "model.compile(loss='categorical_crossentropy',\n",
    "             optimizer=sgd,\n",
    "             metrics=['accuracy' ])"
   ]
  },
  {
   "cell_type": "code",
   "execution_count": 10,
   "metadata": {},
   "outputs": [
    {
     "name": "stdout",
     "output_type": "stream",
     "text": [
      "(2317, 32, 32, 3)\n",
      "(2317, 4)\n"
     ]
    }
   ],
   "source": [
    "valation_size = 0.1\n",
    "X_train2, X_val, y_train2, y_val = train_test_split(X_train, y_train, test_size=valation_size) \n",
    "print(X_train2.shape)\n",
    "print(y_train2.shape)"
   ]
  },
  {
   "cell_type": "code",
   "execution_count": 11,
   "metadata": {
    "scrolled": true
   },
   "outputs": [
    {
     "name": "stdout",
     "output_type": "stream",
     "text": [
      "WARNING:tensorflow:From d:\\anaconda\\envs\\tf114_classifier\\lib\\site-packages\\tensorflow\\python\\ops\\math_grad.py:1250: add_dispatch_support.<locals>.wrapper (from tensorflow.python.ops.array_ops) is deprecated and will be removed in a future version.\n",
      "Instructions for updating:\n",
      "Use tf.where in 2.0, which has the same broadcast rule as np.where\n",
      "WARNING:tensorflow:From d:\\anaconda\\envs\\tf114_classifier\\lib\\site-packages\\keras\\backend\\tensorflow_backend.py:1033: The name tf.assign_add is deprecated. Please use tf.compat.v1.assign_add instead.\n",
      "\n",
      "Train on 2317 samples, validate on 258 samples\n",
      "Epoch 1/10\n",
      "2317/2317 [==============================] - 2s 1ms/step - loss: 1.3666 - acc: 0.3444 - val_loss: 1.3429 - val_acc: 0.3566\n",
      "Epoch 2/10\n",
      "2317/2317 [==============================] - 2s 698us/step - loss: 1.3336 - acc: 0.3681 - val_loss: 1.3286 - val_acc: 0.3566\n",
      "Epoch 3/10\n",
      "2317/2317 [==============================] - 2s 706us/step - loss: 1.3249 - acc: 0.3681 - val_loss: 1.3222 - val_acc: 0.3566\n",
      "Epoch 4/10\n",
      "2317/2317 [==============================] - 2s 708us/step - loss: 1.3211 - acc: 0.3681 - val_loss: 1.3225 - val_acc: 0.3566\n",
      "Epoch 5/10\n",
      "2317/2317 [==============================] - 2s 710us/step - loss: 1.3180 - acc: 0.3681 - val_loss: 1.3178 - val_acc: 0.3566\n",
      "Epoch 6/10\n",
      "2317/2317 [==============================] - 2s 703us/step - loss: 1.3148 - acc: 0.3686 - val_loss: 1.3209 - val_acc: 0.3566\n",
      "Epoch 7/10\n",
      "2317/2317 [==============================] - 2s 706us/step - loss: 1.3109 - acc: 0.3686 - val_loss: 1.3047 - val_acc: 0.4225\n",
      "Epoch 8/10\n",
      "2317/2317 [==============================] - 2s 704us/step - loss: 1.3052 - acc: 0.3871 - val_loss: 1.3001 - val_acc: 0.4767\n",
      "Epoch 9/10\n",
      "2317/2317 [==============================] - 2s 701us/step - loss: 1.3021 - acc: 0.4074 - val_loss: 1.3260 - val_acc: 0.3566\n",
      "Epoch 10/10\n",
      "2317/2317 [==============================] - 2s 701us/step - loss: 1.2975 - acc: 0.4001 - val_loss: 1.3049 - val_acc: 0.3566\n"
     ]
    }
   ],
   "source": [
    "batch_size = 128\n",
    "epochs = 10\n",
    "\n",
    "history = model.fit(X_train2, y_train2,\n",
    "         batch_size=batch_size,\n",
    "         epochs=epochs,\n",
    "         verbose=1,\n",
    "         validation_data=(X_val, y_val),\n",
    "         shuffle=True,   \n",
    "         callbacks=[\n",
    "             #LearningRateScheduler(lr_schedule),\n",
    "             ModelCheckpoint('classifier_lab1022.h5', save_best_only=True)\n",
    "         ]\n",
    "                   )"
   ]
  },
  {
   "cell_type": "code",
   "execution_count": 12,
   "metadata": {},
   "outputs": [],
   "source": [
    "%matplotlib inline\n",
    "import matplotlib.pyplot as plt\n",
    "\n",
    "def plot_train_history(history, train_metrics, val_metrics):\n",
    "    plt.plot(history.history.get(train_metrics),'-o')\n",
    "    plt.plot(history.history.get(val_metrics),'-o')\n",
    "    plt.ylabel(train_metrics)\n",
    "    plt.xlabel('Epochs')\n",
    "    plt.legend(['train', 'validation'])"
   ]
  },
  {
   "cell_type": "code",
   "execution_count": 13,
   "metadata": {},
   "outputs": [
    {
     "data": {
      "image/png": "[encoded data removed]",
      "text/plain": [
       "<Figure size 864x288 with 2 Axes>"
      ]
     },
     "metadata": {
      "needs_background": "light"
     },
     "output_type": "display_data"
    }
   ],
   "source": [
    "plt.figure(figsize=(12,4))\n",
    "plt.subplot(1,2,1)\n",
    "plot_train_history(history, 'loss','val_loss')\n",
    "\n",
    "plt.subplot(1,2,2)\n",
    "plot_train_history(history, 'acc','val_acc')\n",
    "\n",
    "plt.show()"
   ]
  },
  {
   "cell_type": "code",
   "execution_count": 14,
   "metadata": {},
   "outputs": [
    {
     "name": "stdout",
     "output_type": "stream",
     "text": [
      "287/287 [==============================] - 0s 165us/step\n"
     ]
    }
   ],
   "source": [
    "#X_test = np.expand_dims(X_test, axis=-1)\n",
    "loss,accuracy=model.evaluate(X_test,y_test)"
   ]
  },
  {
   "cell_type": "code",
   "execution_count": 15,
   "metadata": {},
   "outputs": [
    {
     "data": {
      "text/plain": [
       "0.38327526007795165"
      ]
     },
     "execution_count": 15,
     "metadata": {},
     "output_type": "execute_result"
    }
   ],
   "source": [
    "accuracy"
   ]
  },
  {
   "cell_type": "code",
   "execution_count": null,
   "metadata": {},
   "outputs": [],
   "source": []
  }
 ],
 "metadata": {
  "kernelspec": {
   "display_name": "Python 3",
   "language": "python",
   "name": "python3"
  },
  "language_info": {
   "codemirror_mode": {
    "name": "ipython",
    "version": 3
   },
   "file_extension": ".py",
   "mimetype": "text/x-python",
   "name": "python",
   "nbconvert_exporter": "python",
   "pygments_lexer": "ipython3",
   "version": "3.6.13"
  }
 },
 "nbformat": 4,
 "nbformat_minor": 2
}
