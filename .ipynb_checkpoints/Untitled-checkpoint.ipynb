{
 "cells": [
  {
   "cell_type": "code",
   "execution_count": 48,
   "id": "92248a6d",
   "metadata": {},
   "outputs": [],
   "source": [
    "from time import perf_counter\n",
    "def my_sort():\n",
    "    time.sleep(0.00336666)\n",
    "start = time.perf_counter()\n",
    "my_sort()\n",
    "end = time.perf_counter()\n",
    "total=(end-start)\n",
    "total_time=5+total"
   ]
  },
  {
   "cell_type": "code",
   "execution_count": 49,
   "id": "91072763",
   "metadata": {},
   "outputs": [
    {
     "data": {
      "text/plain": [
       "5.004140199999938"
      ]
     },
     "execution_count": 49,
     "metadata": {},
     "output_type": "execute_result"
    }
   ],
   "source": [
    "total_time"
   ]
  },
  {
   "cell_type": "code",
   "execution_count": null,
   "id": "7cdd0267",
   "metadata": {},
   "outputs": [],
   "source": []
  }
 ],
 "metadata": {
  "kernelspec": {
   "display_name": "Python 3",
   "language": "python",
   "name": "python3"
  },
  "language_info": {
   "codemirror_mode": {
    "name": "ipython",
    "version": 3
   },
   "file_extension": ".py",
   "mimetype": "text/x-python",
   "name": "python",
   "nbconvert_exporter": "python",
   "pygments_lexer": "ipython3",
   "version": "3.6.13"
  }
 },
 "nbformat": 4,
 "nbformat_minor": 5
}
